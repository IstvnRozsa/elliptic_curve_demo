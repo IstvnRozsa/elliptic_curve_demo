{
 "cells": [
  {
   "cell_type": "markdown",
   "metadata": {},
   "source": [
    "# ECDSA\n",
    "credit: https://learnmeabitcoin.com/technical/ecdsa"
   ]
  },
  {
   "cell_type": "code",
   "execution_count": 7,
   "metadata": {},
   "outputs": [],
   "source": [
    "from curve import Curve\n",
    "from account import Account\n",
    "from utils import _mod, _mul_inverse\n",
    "import hashlib\n",
    "from signature import Signature"
   ]
  },
  {
   "cell_type": "markdown",
   "metadata": {},
   "source": [
    "## Generator point"
   ]
  },
  {
   "cell_type": "code",
   "execution_count": 8,
   "metadata": {},
   "outputs": [
    {
     "name": "stdout",
     "output_type": "stream",
     "text": [
      "0. Generator point:  Coord: x: 4 - y: 5\n"
     ]
    }
   ],
   "source": [
    "ec = Curve(-2, 15, 23, 4)\n",
    "print('0. Generator point: ', ec.generator)"
   ]
  },
  {
   "cell_type": "markdown",
   "metadata": {},
   "source": [
    "## Account"
   ]
  },
  {
   "cell_type": "code",
   "execution_count": 9,
   "metadata": {},
   "outputs": [
    {
     "name": "stdout",
     "output_type": "stream",
     "text": [
      "1. Account:  Name: Alice, Secret key: 3 Public key: Coord: x: 13 - y: 22\n"
     ]
    }
   ],
   "source": [
    "Alice = Account(name = \"Alice\", secret_key = 3, ecurve = ec)\n",
    "print(\"1. Account: \", Alice)"
   ]
  },
  {
   "cell_type": "markdown",
   "metadata": {},
   "source": [
    "## Hash message"
   ]
  },
  {
   "cell_type": "code",
   "execution_count": 10,
   "metadata": {},
   "outputs": [
    {
     "name": "stdout",
     "output_type": "stream",
     "text": [
      "2. My hashed messsage:  11024336812845202542736754815889718862783203771635063178616734621641926515049\n"
     ]
    }
   ],
   "source": [
    "message = \"Hello\"\n",
    "z = 2\n",
    "my_hash = int.from_bytes(hashlib.sha256(message.encode('utf-8')).digest(), 'big')\n",
    "print(\"2. My hashed messsage: \", my_hash)"
   ]
  },
  {
   "cell_type": "markdown",
   "metadata": {},
   "source": [
    "## Signature"
   ]
  },
  {
   "cell_type": "code",
   "execution_count": 11,
   "metadata": {},
   "outputs": [
    {
     "name": "stdout",
     "output_type": "stream",
     "text": [
      "3. Signature: r:13 s: 1\n"
     ]
    }
   ],
   "source": [
    "signature = Signature(my_hash, Alice, ec)\n",
    "print(signature)\n"
   ]
  },
  {
   "cell_type": "markdown",
   "metadata": {},
   "source": [
    "## Verify"
   ]
  },
  {
   "cell_type": "code",
   "execution_count": 13,
   "metadata": {},
   "outputs": [
    {
     "name": "stdout",
     "output_type": "stream",
     "text": [
      "4. Help:  1 10 13\n",
      "5. Temps:  Coord: x: 11 - y: 17 Coord: x: 17 - y: 15\n",
      "6. Signature is valid:  True\n",
      "6. Signature is valid:  False\n"
     ]
    }
   ],
   "source": [
    "w = _mul_inverse(signature.s, ec.order) # w=(s**-1)**-1 mod q\n",
    "u1 = _mod(w * my_hash, ec.order) # u1=[H(M)w] mod q\n",
    "u2 = _mod(w * signature.r, ec.order) # u2 = w*r mod q\n",
    "print(\"4. Help: \", w, u1, u2)\n",
    "\n",
    "temp1 = ec.double_and_add(u1, ec.generator)\n",
    "temp2 = ec.double_and_add(u2, Alice.public_key)\n",
    "print(\"5. Temps: \", temp1, temp2)\n",
    "\n",
    "\n",
    "P = ec.add(temp1, temp2)\n",
    "print(\"6. Signature is valid: \", P.x == _mod(signature.r, ec.order))\n",
    "print(\"7. Signature is valid: \", P.x == _mod(signature.r + 1, ec.order))"
   ]
  }
 ],
 "metadata": {
  "kernelspec": {
   "display_name": "Python 3.10.5 ('venv': venv)",
   "language": "python",
   "name": "python3"
  },
  "language_info": {
   "codemirror_mode": {
    "name": "ipython",
    "version": 3
   },
   "file_extension": ".py",
   "mimetype": "text/x-python",
   "name": "python",
   "nbconvert_exporter": "python",
   "pygments_lexer": "ipython3",
   "version": "3.10.5"
  },
  "orig_nbformat": 4,
  "vscode": {
   "interpreter": {
    "hash": "2cf587780dfe103dddca1f7de4c0b03c78c403c3a0eed806d436acc366105528"
   }
  }
 },
 "nbformat": 4,
 "nbformat_minor": 2
}
